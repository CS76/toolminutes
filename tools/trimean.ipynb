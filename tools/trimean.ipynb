{
 "cells": [
  {
   "cell_type": "markdown",
   "metadata": {},
   "source": [
    "# Robust statistics and Trimean"
   ]
  },
  {
   "cell_type": "code",
   "execution_count": 4,
   "metadata": {},
   "outputs": [],
   "source": [
    "from scipy.stats import skewnorm\n",
    "import numpy as np\n",
    "import matplotlib.pyplot as plt"
   ]
  },
  {
   "cell_type": "markdown",
   "metadata": {},
   "source": [
    "Let's generate some data that might be something we find in the real world."
   ]
  },
  {
   "cell_type": "code",
   "execution_count": 11,
   "metadata": {},
   "outputs": [],
   "source": [
    "skew_magnitude = -6\n",
    "arr = skewnorm.rvs(skew_magnitude, loc=0, scale=1000, size=100000)"
   ]
  },
  {
   "cell_type": "markdown",
   "metadata": {},
   "source": [
    "(The skew is a third-order [moment](https://en.wikipedia.org/wiki/Moment_(mathematics)).)"
   ]
  },
  {
   "cell_type": "code",
   "execution_count": 12,
   "metadata": {},
   "outputs": [
    {
     "data": {
      "image/png": "[encoded data removed]",
      "text/plain": [
       "<Figure size 640x480 with 1 Axes>"
      ]
     },
     "metadata": {},
     "output_type": "display_data"
    }
   ],
   "source": [
    "plt.hist(arr, bins=100, density=True)\n",
    "plt.show()"
   ]
  },
  {
   "cell_type": "markdown",
   "metadata": {},
   "source": [
    "Let's get a very common measure of central tendency:"
   ]
  },
  {
   "cell_type": "code",
   "execution_count": 14,
   "metadata": {},
   "outputs": [
    {
     "data": {
      "text/plain": [
       "-789.5809069979605"
      ]
     },
     "execution_count": 14,
     "metadata": {},
     "output_type": "execute_result"
    }
   ],
   "source": [
    "np.mean(arr)"
   ]
  },
  {
   "cell_type": "markdown",
   "metadata": {},
   "source": [
    "The mean overstates the central tendency because of the skew."
   ]
  },
  {
   "cell_type": "markdown",
   "metadata": {},
   "source": [
    "The mean is defined as \n",
    "\n",
    "$$\\bar{x} = \\frac{1}{n} \\sum_{i=1}^n x_i$$\n",
    "\n",
    "and treats all numbers equally. No matter how big or small."
   ]
  },
  {
   "cell_type": "markdown",
   "metadata": {},
   "source": [
    "One can \"fix\" this by looking at \"robust\" statistics that are often rank based.\n",
    "Rank based means that we sort the data and then base our statistics on the rank of the data.\n",
    "In this way, they are no longer sensitive to outliers."
   ]
  },
  {
   "cell_type": "code",
   "execution_count": 15,
   "metadata": {},
   "outputs": [
    {
     "name": "stdout",
     "output_type": "stream",
     "text": [
      "Median -679.7024551978025\n",
      "Interquartile Range 834.2816858677052\n",
      "Mean -789.5809069979605\n",
      "Standard Deviation 614.9363837309692\n"
     ]
    }
   ],
   "source": [
    "def interquartile_range(arr):\n",
    "    q1 = np.percentile(arr, 25)\n",
    "    q3 = np.percentile(arr, 75)\n",
    "    return q3 - q1\n",
    "\n",
    "print(\"Median\", np.percentile(arr, 50))\n",
    "print(\"Interquartile Range\", interquartile_range(arr))\n",
    "print(\"Mean\", arr.mean())\n",
    "print(\"Standard Deviation\", arr.std())"
   ]
  },
  {
   "cell_type": "markdown",
   "metadata": {},
   "source": [
    "A very nice measure of centrality is the so-called [trimean](https://en.wikipedia.org/wiki/Trimean).\n",
    "\n",
    "> \"An advantage of the trimean as a measure of the center (of a distribution) is that it combines the median's emphasis on center values with the midhinge's attention to the extremes.\"\n",
    "> \n",
    "> — Herbert F. Weisberg, Central Tendency and Variability\n",
    "\n",
    "It is defined as\n",
    "\n",
    "$$\n",
    "\\text{trimean} = \\frac{Q_1 + 2Q_2 + Q_3}{4}\n",
    "$$\n",
    "\n",
    "where $Q_1$ is the first quartile, $Q_2$ is the median, and $Q_3$ is the third quartile."
   ]
  },
  {
   "cell_type": "code",
   "execution_count": 18,
   "metadata": {},
   "outputs": [
    {
     "name": "stdout",
     "output_type": "stream",
     "text": [
      "Trimean -708.4430042323374\n"
     ]
    }
   ],
   "source": [
    "def trimean(arr):\n",
    "    q1 = np.percentile(arr, 25)\n",
    "    q3 = np.percentile(arr, 75)\n",
    "    median = np.percentile(arr, 50)\n",
    "    return (q1 + 2*median + q3)/4\n",
    "\n",
    "print(\"Trimean\", trimean(arr))"
   ]
  }
 ],
 "metadata": {
  "kernelspec": {
   "display_name": "chemnlp",
   "language": "python",
   "name": "python3"
  },
  "language_info": {
   "codemirror_mode": {
    "name": "ipython",
    "version": 3
   },
   "file_extension": ".py",
   "mimetype": "text/x-python",
   "name": "python",
   "nbconvert_exporter": "python",
   "pygments_lexer": "ipython3",
   "version": "3.8.16"
  }
 },
 "nbformat": 4,
 "nbformat_minor": 2
}
